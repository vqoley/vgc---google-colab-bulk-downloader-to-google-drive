{
  "nbformat": 4,
  "nbformat_minor": 0,
  "metadata": {
    "colab": {
      "provenance": []
    },
    "kernelspec": {
      "name": "python3",
      "display_name": "Python 3"
    },
    "language_info": {
      "name": "python"
    },
    "gpuClass": "standard"
  },
  "cells": [
    {
      "cell_type": "markdown",
      "source": [
        "Author: [vqoley](https://github.com/vqoley/vgc---google-colab-bulk-downloader-to-google-drive)"
      ],
      "metadata": {
        "id": "RV_krRnRgcDt"
      }
    },
    {
      "cell_type": "markdown",
      "source": [
        "1. Install google-auth lib"
      ],
      "metadata": {
        "id": "G6DVVYEAeff_"
      }
    },
    {
      "cell_type": "code",
      "source": [
        "!pip install google-auth google-auth-oauthlib google-auth-httplib2\n",
        "!google-auth\n"
      ],
      "metadata": {
        "id": "MnCQ0IPK2P_B"
      },
      "execution_count": null,
      "outputs": []
    },
    {
      "cell_type": "code",
      "source": [
        "from google.colab import auth\n",
        "auth.authenticate_user()"
      ],
      "metadata": {
        "id": "VAMam9MJ3Jak"
      },
      "execution_count": null,
      "outputs": []
    },
    {
      "cell_type": "markdown",
      "source": [
        "2. Go to folder that you wish all downloaded file will be saved/keep."
      ],
      "metadata": {
        "id": "SqNyMZcse7uB"
      }
    },
    {
      "cell_type": "code",
      "source": [
        "cd gdrive/MyDrive/"
      ],
      "metadata": {
        "colab": {
          "base_uri": "https://localhost:8080/"
        },
        "id": "M2JIZtDx09Im",
        "outputId": "53b865e5-9ac8-4c29-f925-8472d84279f0"
      },
      "execution_count": null,
      "outputs": [
        {
          "output_type": "stream",
          "name": "stdout",
          "text": [
            "/content/gdrive/MyDrive\n"
          ]
        }
      ]
    },
    {
      "cell_type": "markdown",
      "source": [
        "3. Run script below\n",
        "\n",
        "*   select path that where you will save *.txt file then press enter button on your keyboard\n",
        "*   click button upload to upload your *.txt file. Make sure inside *.txt file have url line by line and then wait for Start Download button appear\n",
        "*   Click start button to start download \n",
        "\n",
        "\n",
        "\n",
        "\n",
        "\n"
      ],
      "metadata": {
        "id": "6FZcm7EbfKSg"
      }
    },
    {
      "cell_type": "code",
      "execution_count": null,
      "metadata": {
        "id": "ZbqsVTNHx-er"
      },
      "outputs": [],
      "source": [
        "from google.colab import drive\n",
        "from googleapiclient.discovery import build\n",
        "from googleapiclient.errors import HttpError\n",
        "from googleapiclient.http import MediaFileUpload, MediaIoBaseUpload\n",
        "from ipywidgets import FileUpload, Button, VBox, HBox\n",
        "from IPython.display import display\n",
        "from googleapiclient.http import MediaFileUpload\n",
        "import io\n",
        "import os\n",
        "import re\n",
        "import requests\n",
        "import threading\n",
        "import urllib.request\n",
        "import requests\n",
        "from tqdm import tqdm\n",
        "from ipywidgets import Button, Output\n",
        "\n",
        "def main():\n",
        "  drive.mount('/content/gdrive')\n",
        "  global service\n",
        "  service = build('drive', 'v3')\n",
        "  global drive_path_input\n",
        "  drive_path_input = input('Enter the path in Google Drive where you want to save the downloaded files (e.g. \"folder/subfolder\"): ')\n",
        "  global upload_button\n",
        "  upload_button = FileUpload(accept='.txt', multiple=False)\n",
        "  global upload_output\n",
        "  upload_output = VBox([upload_button])\n",
        "  global file_id\n",
        "  file_id = None\n",
        "  print('Upload a text file containing the URLs to download:')\n",
        "  display(upload_output)\n",
        "  upload_button.observe(on_upload_button_click, names='value')\n",
        "\n",
        "def on_upload_button_click(change):\n",
        "  global file_id\n",
        "  global urls\n",
        "  global download_button\n",
        "  global progress_output\n",
        "  file_name = list(upload_button.value.keys())[0]\n",
        "  file_content = upload_button.value[file_name]['content']\n",
        "  file_metadata = {'name': file_name, 'parents':[get_folder_id_by_path(drive_path_input)]}\n",
        "  media = MediaIoBaseUpload(io.BytesIO(file_content), mimetype='text/plain', resumable=True)\n",
        "  file = service.files().create(body=file_metadata, media_body=media, fields='id').execute()\n",
        "  file_id = file.get('id')\n",
        "  urls = re.findall(r'http[s]?://(?:[a-zA-Z]|[0-9]|[$-_@.&+]|[!*\\(\\),]|(?:%[0-9a-fA-F][0-9a-fA-F]))+', file_content.decode('utf-8'))\n",
        "  download_button = Button(description='Start Download')\n",
        "  download_button.on_click(on_download_button_click)\n",
        "  progress_output = VBox([])\n",
        "  upload_output.children = [VBox([download_button, progress_output])]\n",
        "\n",
        "def on_download_button_click(change):\n",
        "    global urls\n",
        "    global progress_output\n",
        "    progress_output.children = [Button(description='Downloading...', disabled=True)]\n",
        "    for url in urls:\n",
        "        filename = os.path.basename(url)\n",
        "        print(\"Downloading... \",filename, end='')\n",
        "        response = requests.get(url, stream=True) \n",
        "        total_size = int(response.headers.get('content-length', 0))\n",
        "        block_size = 1024\n",
        "        progress_bar = tqdm(total=total_size, unit='iB', unit_scale=True)\n",
        "        #print(\"\\rDownloading... {filename}\", end='')\n",
        "        with open(filename, 'wb') as file:\n",
        "            for data in response.iter_content(block_size):\n",
        "                progress_bar.update(len(data))\n",
        "                file.write(data)\n",
        "                progress = f\"{file.tell() / total_size:.1%}\" if total_size > 0 else \"?\"\n",
        "                threading.Thread(target=update_progress, args=(filename, progress)).start()\n",
        "        threading.Thread(target=download_and_upload_to_drive, args=(url, filename)).start()\n",
        "        progress_bar.close()\n",
        "\n",
        "\n",
        "\n",
        "def download_and_upload_to_drive(url, filename):\n",
        "    with requests.get(url, stream=True) as r:\n",
        "        r.raise_for_status()\n",
        "        total_size = int(r.headers.get('content-length', 0))\n",
        "        bytes_so_far = 0\n",
        "        with open(filename, 'wb') as f:\n",
        "            for chunk in r.iter_content(chunk_size=8192):\n",
        "                bytes_so_far += len(chunk)\n",
        "                f.write(chunk)\n",
        "                progress = f\"{bytes_so_far / total_size:.1%}\" if total_size > 0 else \"?\"\n",
        "               # print(f\"\\r{filename}: {progress}\", end=\"\")\n",
        "                threading.Thread(target=update_progress, args=(filename, progress)).start()\n",
        "\n",
        "    file_metadata = {'name': filename, 'parents': [get_folder_id_by_path(drive_path_input)]}\n",
        "    media = MediaFileUpload(filename, resumable=True)\n",
        "    file = service.files().create(body=file_metadata, media_body=media, fields='id').execute()\n",
        "\n",
        "    # Move the file to the specified folder\n",
        "    file_id = file.get('id')\n",
        "    file_metadata = {'addParents': [get_folder_id_by_path(drive_path_input)]}\n",
        "    service.files().update(fileId=file_id, body=file_metadata).execute()\n",
        "\n",
        "\n",
        "def update_progress(filename, progress):\n",
        "  for item in progress_output.children:\n",
        "    if item.description.startswith(filename):\n",
        "      item.description = f'{filename} ({progress})'\n",
        "      #print(f\"\\r{filename}: {progress}\", end=\"\")\n",
        "      progress_text = f\"Uploading {filename}: {progress} complete\"\n",
        "      progress_output.children = [Output(value=progress_text)]\n",
        "\n",
        "\n",
        "def download_file(url, filename):\n",
        "  with requests.get(url, stream=True) as r:\n",
        "    r.raise_for_status()\n",
        "    total_size = int(r.headers.get('content-length', 0))\n",
        "    bytes_so_far = 0\n",
        "    with open(filename, 'wb') as f:\n",
        "      for chunk in r.iter_content(chunk_size=8192):\n",
        "        bytes_so_far += len(chunk)\n",
        "        f.write(chunk)\n",
        "        progress = f\"{bytes_so_far / total_size:.1%}\" if total_size > 0 else \"?\"\n",
        "        threading.Thread(target=update_progress, args=(filename, progress)).start()\n",
        "  file_metadata = {'name': filename, 'parents':[get_folder_id_by_path(drive_path_input)]}\n",
        "  media = MediaFileUpload(filename, resumable=True)\n",
        "  file = service.files().create(body=file_metadata, media_body=media, fields='id').execute()\n",
        "  # Move the file to the specified folder\n",
        "  file_id = file.get('id')\n",
        "  file_metadata = {'parents': [get_folder_id_by_path(drive_path_input)]}\n",
        "  service.files().update(fileId=file_id, body=file_metadata).execute()\n",
        "\n",
        "def start_download():\n",
        "    urls = get_urls(text.get(\"1.0\", tk.END))\n",
        "    for url in urls:\n",
        "        t = threading.Thread(target=download_file, args=(url, drive_path))\n",
        "        t.start()\n",
        "\n",
        "\n",
        "def on_start_button_click(b):\n",
        "    global urls\n",
        "    with open(uploaded_file_path.value, 'r') as f:\n",
        "        urls = f.readlines()\n",
        "    for url in urls:\n",
        "        url = url.strip()\n",
        "        if url:\n",
        "            filename = os.path.basename(url)\n",
        "            t = threading.Thread(target=download_file, args=(url, filename, drive_path.value))\n",
        "            t.start()\n",
        "            threads.append(t)\n",
        "\n",
        "\n",
        "def progress_callback(block_num, block_size, total_size):\n",
        "    percentage = 100.0 * block_num * block_size / total_size\n",
        "    print(f\"{percentage:.1f}% downloaded\")\n",
        "\n",
        "def get_folder_id_by_path(path):\n",
        "  if path == \"\":\n",
        "    return \"root\"\n",
        "  else:\n",
        "    try:\n",
        "      path_list = path.split(\"/\")\n",
        "      current_folder = \"root\"\n",
        "      for folder_name in path_list:\n",
        "        if folder_name != \"\":\n",
        "          query = \"mimeType='application/vnd.google-apps.folder' and trashed = false and name = '\"+folder_name+\"' and '\"+current_folder+\"' in parents\"\n",
        "          results = service.files().list(q=query,fields=\"nextPageToken, files(id, name)\").execute()\n",
        "          items = results.get(\"files\", [])\n",
        "          if items:\n",
        "            current_folder = items[0][\"id\"]\n",
        "          else:\n",
        "            file_metadata = {'name': folder_name, 'parents':[current_folder],'mimeType':'application/vnd.google-apps.folder'}\n",
        "            folder = service.files().create(body=file_metadata, fields='id').execute()\n",
        "            current_folder = folder.get('id')\n",
        "        else:\n",
        "          continue\n",
        "      return current_folder\n",
        "    except HttpError as error:\n",
        "      print(f\"An error occurred: {error}\")\n",
        "      return None\n",
        "\n",
        "if __name__ == '__main__':\n",
        "    main()\n",
        "\n"
      ]
    }
  ]
}